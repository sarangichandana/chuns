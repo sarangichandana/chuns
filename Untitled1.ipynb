{
  "nbformat": 4,
  "nbformat_minor": 0,
  "metadata": {
    "colab": {
      "name": "Untitled1.ipynb",
      "provenance": [],
      "collapsed_sections": [],
      "authorship_tag": "ABX9TyObnmI00RcqX5sWP+HaDDvs",
      "include_colab_link": true
    },
    "kernelspec": {
      "name": "python3",
      "display_name": "Python 3"
    },
    "language_info": {
      "name": "python"
    }
  },
  "cells": [
    {
      "cell_type": "markdown",
      "metadata": {
        "id": "view-in-github",
        "colab_type": "text"
      },
      "source": [
        "<a href=\"https://colab.research.google.com/github/sarangichandana/chuns/blob/main/Untitled1.ipynb\" target=\"_parent\"><img src=\"https://colab.research.google.com/assets/colab-badge.svg\" alt=\"Open In Colab\"/></a>"
      ]
    },
    {
      "cell_type": "code",
      "execution_count": 12,
      "metadata": {
        "colab": {
          "base_uri": "https://localhost:8080/"
        },
        "id": "1ABy38yz8jQi",
        "outputId": "343f5c30-8a94-4bca-8a02-5427e167fb9e"
      },
      "outputs": [
        {
          "output_type": "stream",
          "name": "stdout",
          "text": [
            "enter the number of elements: 2\n",
            "enter any value: priya\n",
            "enter any value: sukriti\n",
            "['priya', 'sukriti']\n"
          ]
        }
      ],
      "source": [
        "list = int(input(\"enter the number of elements: \"))\n",
        "my_list=[]\n",
        "for i in range(list):\n",
        " user_input= input(\"enter any value: \")\n",
        " my_list.append(user_input)\n",
        "print(my_list)"
      ]
    },
    {
      "cell_type": "code",
      "source": [
        "my_list=[]\n",
        "for i in range (5):\n",
        "  user_input=int(input(\"enter any value: {i+1}: \"))\n",
        "  my_list.append(user_input)\n",
        "  check_num=int(input('enter any number:'))\n",
        "if check_num in my_list:\n",
        "  print(\"this is already present in the list\")\n",
        "else:\n",
        "  print(\"this number is not present\")\n"
      ],
      "metadata": {
        "colab": {
          "base_uri": "https://localhost:8080/"
        },
        "id": "IlnHTb3OXTjU",
        "outputId": "131afa28-f06a-464a-8c99-f3adaf9a7e9b"
      },
      "execution_count": 16,
      "outputs": [
        {
          "output_type": "stream",
          "name": "stdout",
          "text": [
            "enter any value: {i+1}: 1\n",
            "enter any number:69\n",
            "enter any value: {i+1}: 2\n",
            "enter any number:78\n",
            "enter any value: {i+1}: 3\n",
            "enter any number:91\n",
            "enter any value: {i+1}: 4\n",
            "enter any number:100\n",
            "enter any value: {i+1}: 5\n",
            "enter any number:102\n",
            "this number is not present\n"
          ]
        }
      ]
    },
    {
      "cell_type": "code",
      "source": [
        "mylist=[]\n",
        "mylist_1=[]\n",
        "for i in range(6):\n",
        "     user_input= int(input(\"enter number: {i+1}: \"))\n",
        "     mylist.append(user_input)\n",
        "     if user_input%2==0:\n",
        "         mylist_1.append(\"even\")\n",
        "     else:\n",
        "         mylist_1.append(\"odd\")\n",
        "print(mylist)\n",
        "print(mylist_1)"
      ],
      "metadata": {
        "colab": {
          "base_uri": "https://localhost:8080/"
        },
        "id": "tKw36v4JbxDi",
        "outputId": "76d8b6d2-545b-4b51-a9f1-796d240163f2"
      },
      "execution_count": 24,
      "outputs": [
        {
          "output_type": "stream",
          "name": "stdout",
          "text": [
            "enter number: {i+1}: 68\n",
            "enter number: {i+1}: 53\n",
            "enter number: {i+1}: 66\n",
            "enter number: {i+1}: 51\n",
            "enter number: {i+1}: 96\n",
            "enter number: {i+1}: 91\n",
            "[68, 53, 66, 51, 96, 91]\n",
            "['even', 'odd', 'even', 'odd', 'even', 'odd']\n"
          ]
        }
      ]
    },
    {
      "cell_type": "code",
      "source": [
        "my_list=[]\n",
        "positive=negative=zero=odd=even=0\n",
        "for i in range(10):\n",
        "    user_input= int(input(\"enter number : {i+1}: \"))\n",
        "    my_list.append(user_input)\n",
        "    if user_input%2==0:\n",
        "      even+=1\n",
        "    else:\n",
        "      odd+=1\n",
        "    if user_input>0:\n",
        "      positive+=1\n",
        "    elif user_input==0:\n",
        "      zero+=1\n",
        "    else:\n",
        "      negative+=1\n",
        "print(\"even number:\", even)\n",
        "print(\"odd number:\", odd)\n",
        "print(\"positive number:\", positive)\n",
        "print(\"negative number:\", negative)\n",
        "print(\"zeros:\", zero)\n"
      ],
      "metadata": {
        "colab": {
          "base_uri": "https://localhost:8080/"
        },
        "id": "PmNQ0noxiKmc",
        "outputId": "c494f293-1109-4e22-a602-d1499c8f7144"
      },
      "execution_count": 25,
      "outputs": [
        {
          "output_type": "stream",
          "name": "stdout",
          "text": [
            "enter number : {i+1}: 5\n",
            "enter number : {i+1}: -10\n",
            "enter number : {i+1}: 0\n",
            "enter number : {i+1}: 6\n",
            "enter number : {i+1}: 9\n",
            "enter number : {i+1}: -26\n",
            "enter number : {i+1}: 0\n",
            "enter number : {i+1}: 17\n",
            "enter number : {i+1}: 18\n",
            "enter number : {i+1}: 4\n",
            "even number: 7\n",
            "odd number: 3\n",
            "positive number: 6\n",
            "negative number: 2\n",
            "zeros: 2\n"
          ]
        }
      ]
    }
  ]
}